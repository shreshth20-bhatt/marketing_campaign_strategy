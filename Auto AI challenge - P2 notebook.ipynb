{
    "cells": [
        {
            "cell_type": "markdown",
            "metadata": {
                "collapsed": true
            },
            "source": "################################################################################\n#Licensed Materials - Property of IBM\n#(C) Copyright IBM Corp. 2020\n#US Government Users Restricted Rights - Use, duplication disclosure restricted\n#by GSA ADP Schedule Contract with IBM Corp.\n################################################################################\n\nThe auto-generated notebooks are subject to the International License Agreement for Non-Warranted Programs (or equivalent) and License Information document for Watson Studio Auto-generated Notebook (License Terms), such agreements located in the link below.\nSpecifically, the Source Components and Sample Materials clause included in the License Information document for\nWatson Studio Auto-generated Notebook applies to the auto-generated notebooks. \nBy downloading, copying, accessing, or otherwise using the materials, you agree to the License Terms.\nhttp://www14.software.ibm.com/cgi-bin/weblap/lap.pl?li_formnum=L-AMCU-BHU2B7&title=IBM%20Watson%20Studio%20Auto-generated%20Notebook%20V2.1"
        },
        {
            "cell_type": "markdown",
            "metadata": {
                "pycharm": {
                    "name": "#%% md\n"
                }
            },
            "source": "### IBM AutoAI Auto-Generated Notebook v1.13.1\n\n**Note:** Notebook code generated using AutoAI will execute successfully. If code is modified or reordered,   \nthere is no guarantee it will successfully execute. This pipeline is optimized for the original dataset.  \nThe pipeline may fail or produce sub-optimium results if used with different data. For different data,  \nplease consider returning to AutoAI Experiments to generate a new pipeline. Please read our documentation   \nfor more information:   \n(Cloud Platform) https://dataplatform.cloud.ibm.com/docs/content/wsj/analyze-data/autoai-notebook.html .\n(Cloud Pak For Data) https://www.ibm.com/support/knowledgecenter/SSQNUZ_3.0.0/wsj/analyze-data/autoai-notebook.html .\n\n\nBefore modifying the pipeline or trying to re-fit the pipeline, consider:   \nThe notebook converts dataframes to numpy arrays before fitting the pipeline   \n(a current restriction of the preprocessor pipeline). The known_values_list is passed by reference   \nand populated with categorical values during fit of the preprocessing pipeline. Delete its members before re-fitting."
        },
        {
            "cell_type": "markdown",
            "metadata": {},
            "source": "### Representing Pipeline_2 \n"
        },
        {
            "cell_type": "markdown",
            "metadata": {},
            "source": "### 1. Set Up\nIf lightgbm or xgboost installation fails, please follow:\n - [lightgbm docs](https://lightgbm.readthedocs.io/en/latest/Installation-Guide.html)\n - [xgboost docs](https://xgboost.readthedocs.io/en/latest/build.html)"
        },
        {
            "cell_type": "code",
            "execution_count": 2,
            "metadata": {},
            "outputs": [
                {
                    "name": "stdout",
                    "output_type": "stream",
                    "text": "lightgbm, if needed, will be installed and imported later\n"
                }
            ],
            "source": "\ntry:\n    import autoai_libs\nexcept Exception as e:\n    import subprocess\n    out = subprocess.check_output('pip install autoai-libs'.split(' '))\n    for line in out.splitlines():\n        print(line)\n    import autoai_libs\nimport sklearn\ntry:\n    import xgboost\nexcept:\n    print('xgboost, if needed, will be installed and imported later')\ntry:\n    import lightgbm\nexcept:\n    print('lightgbm, if needed, will be installed and imported later')\nfrom sklearn.cluster import FeatureAgglomeration\nimport numpy\nfrom numpy import inf, nan, dtype, mean\nfrom autoai_libs.sklearn.custom_scorers import CustomScorers\nimport sklearn.ensemble\nfrom autoai_libs.cognito.transforms.transform_utils import TExtras, FC\nfrom autoai_libs.transformers.exportable import *\nfrom autoai_libs.utils.exportable_utils import *\nfrom sklearn.pipeline import Pipeline\nknown_values_list=[]"
        },
        {
            "cell_type": "code",
            "execution_count": 3,
            "metadata": {},
            "outputs": [],
            "source": "# compose a decorator to assist pipeline instantiation via import of modules and installation of packages\ndef decorator_retries(func):\n    def install_import_retry(*args, **kwargs):\n        retries = 0\n        successful = False\n        failed_retries = 0\n        while retries < 100 and failed_retries < 10 and not successful:\n            retries += 1\n            failed_retries += 1\n            try:\n                result = func(*args, **kwargs)\n                successful = True\n            except Exception as e:\n                estr = str(e)\n                if estr.startswith('name ') and estr.endswith(' is not defined'):\n                    try:\n                        import importlib\n                        module_name = estr.split(\"'\")[1]\n                        module = importlib.import_module(module_name)\n                        globals().update({module_name: module})\n                        print('import successful for ' + module_name)\n                        failed_retries -= 1\n                    except Exception as import_failure:\n                        print('import of ' + module_name + ' failed with: ' + str(import_failure))\n                        import subprocess\n                        if module_name == 'lightgbm':\n                            try:\n                                print('attempting pip install of ' + module_name)\n                                process = subprocess.Popen('pip install ' + module_name, shell=True)\n                                process.wait()\n                            except Exception as E:\n                                print(E)\n                                try:\n                                    import sys\n                                    print('attempting conda install of ' + module_name)\n                                    process = subprocess.Popen('conda install --yes --prefix {sys.prefix} -c powerai ' + module_name, shell = True)\n                                    process.wait()\n                                except Exception as lightgbm_installation_error:\n                                    print('lightgbm installation failed!' + lightgbm_installation_error)\n                        else:\n                            print('attempting pip install of ' + module_name)\n                            process = subprocess.Popen('pip install ' + module_name, shell=True)\n                            process.wait()\n                        try:\n                            print('re-attempting import of ' + module_name)\n                            module = importlib.import_module(module_name)\n                            globals().update({module_name: module})\n                            print('import successful for ' + module_name)\n                            failed_retries -= 1\n                        except Exception as import_or_installation_failure:\n                            print('failure installing and/or importing ' + module_name + ' error was: ' + str(\n                                import_or_installation_failure))\n                            raise (ModuleNotFoundError('Missing package in environment for ' + module_name +\n                                                       '? Try import and/or pip install manually?'))\n                elif type(e) is AttributeError:\n                    if 'module ' in estr and ' has no attribute ' in estr:\n                        pieces = estr.split(\"'\")\n                        if len(pieces) == 5:\n                            try:\n                                import importlib\n                                print('re-attempting import of ' + pieces[3] + ' from ' + pieces[1])\n                                module = importlib.import_module('.' + pieces[3], pieces[1])\n                                failed_retries -= 1\n                            except:\n                                print('failed attempt to import ' + pieces[3])\n                                raise (e)\n                        else:\n                            raise (e)\n                else:\n                    raise (e)\n        if successful:\n            print('Pipeline successfully instantiated')\n        else:\n            raise (ModuleNotFoundError(\n                'Remaining missing imports/packages in environment? Retry cell and/or try pip install manually?'))\n        return result\n    return install_import_retry\n"
        },
        {
            "cell_type": "markdown",
            "metadata": {},
            "source": "### 2. Compose Pipeline"
        },
        {
            "cell_type": "code",
            "execution_count": 4,
            "metadata": {},
            "outputs": [
                {
                    "name": "stdout",
                    "output_type": "stream",
                    "text": "Pipeline successfully instantiated\n"
                },
                {
                    "name": "stderr",
                    "output_type": "stream",
                    "text": "/opt/conda/envs/Python36/lib/python3.6/site-packages/sklearn/utils/deprecation.py:58: DeprecationWarning: Class Imputer is deprecated; Imputer was deprecated in version 0.20 and will be removed in 0.22. Import impute.SimpleImputer from sklearn instead.\n  warnings.warn(msg, category=DeprecationWarning)\n"
                }
            ],
            "source": "# metadata necessary to replicate AutoAI scores with the pipeline\n_input_metadata = {'separator': ',', 'excel_sheet': 0, 'target_label_name': 'term_deposit_subscribed', 'learning_type': 'classification', 'subsampling': None, 'pos_label': 1, 'pn': 'P2', 'cv_num_folds': 3, 'holdout_fraction': 0.1, 'optimization_metric': 'f1', 'random_state': 33, 'data_source': ''}\n\n# define a function to compose the pipeline, and invoke it\n@decorator_retries\ndef compose_pipeline():\n    import numpy\n    from numpy import nan, dtype, mean\n    #\n    # composing steps for toplevel Pipeline\n    #\n    _input_metadata = {'separator': ',', 'excel_sheet': 0, 'target_label_name': 'term_deposit_subscribed', 'learning_type': 'classification', 'subsampling': None, 'pos_label': 1, 'pn': 'P2', 'cv_num_folds': 3, 'holdout_fraction': 0.1, 'optimization_metric': 'f1', 'random_state': 33, 'data_source': ''}\n    steps = []\n    steps.append(('column_selector', autoai_libs.transformers.exportable.ColumnSelector(activate_flag=True, columns_indices_list=[1, 2, 3, 4, 5, 6, 7, 8, 9, 10, 11, 12, 13, 14, 15, 16])))\n    #\n    # composing steps for preprocessor Pipeline\n    #\n    preprocessor__input_metadata = None\n    preprocessor_steps = []\n    #\n    # composing steps for preprocessor_features FeatureUnion\n    #\n    preprocessor_features_transformer_list = []\n    #\n    # composing steps for preprocessor_features_categorical Pipeline\n    #\n    preprocessor_features_categorical__input_metadata = None\n    preprocessor_features_categorical_steps = []\n    preprocessor_features_categorical_steps.append(('cat_column_selector', autoai_libs.transformers.exportable.NumpyColumnSelector(columns=[0, 1, 2, 3, 4, 6, 7, 8, 9, 10, 12, 14, 15])))\n    preprocessor_features_categorical_steps.append(('cat_compress_strings', autoai_libs.transformers.exportable.CompressStrings(activate_flag=True, compress_type='hash', dtypes_list=['float_int_num', 'char_str', 'char_str', 'char_str', 'char_str', 'char_str', 'char_str', 'char_str', 'int_num', 'char_str', 'float_int_num', 'int_num', 'char_str'], missing_values_reference_list=['', '-', '?', nan], misslist_list=[[nan], [], [nan], [], [], [], [nan], [], [], [], [nan], [], []])))\n    preprocessor_features_categorical_steps.append(('cat_missing_replacer', autoai_libs.transformers.exportable.NumpyReplaceMissingValues(filling_values=nan, missing_values=[nan])))\n    preprocessor_features_categorical_steps.append(('cat_unknown_replacer', autoai_libs.transformers.exportable.NumpyReplaceUnknownValues(filling_values=nan, filling_values_list=[100001, nan, nan, nan, nan, nan, nan, nan, nan, nan, 100001, nan, nan], known_values_list=[[18.0, 19.0, 20.0, 21.0, 22.0, 23.0, 24.0, 25.0, 26.0, 27.0, 28.0, 29.0, 30.0, 31.0, 32.0, 33.0, 34.0, 35.0, 36.0, 37.0, 38.0, 39.0, 40.0, 41.0, 42.0, 43.0, 44.0, 45.0, 46.0, 47.0, 48.0, 49.0, 50.0, 51.0, 52.0, 53.0, 54.0, 55.0, 56.0, 57.0, 58.0, 59.0, 60.0, 61.0, 62.0, 63.0, 64.0, 65.0, 66.0, 67.0, 68.0, 69.0, 70.0, 71.0, 72.0, 73.0, 74.0, 75.0, 76.0, 77.0, 78.0, 79.0, 80.0, 81.0, 82.0, 83.0, 84.0, 85.0, 86.0, 87.0, 88.0, 89.0, 91.0, 93.0, 95.0, 97.0], [299961598826231006696258074368434668367, 118306684911806858809743754946421076486, 98478044226004807457109703722838050713, 159321454560324332308049628502064282166, 277865529956089617403127183248900841086, 219787300200495054367126911617512439045, 151187835775071385968551753808908784991, 22333232251373414705922969281349238736, 273090479048997458791671709926862556104, 313124412425195552816929405018604615431, 283364312271660996400883763491949419861, 230715114430321724850934713783197932106], [194429803966179465246868280202713319745, 94794063833506540693839539212819851226, 294237220628406284433086281919417668540], [74996123215559660479243836105077404498, 41848077678477651631734462707804428744, 257113281635338527704033019287091017778, 230715114430321724850934713783197932106], [169662019754859674907370307324476606919, 220736790854050750400968561922076059550], [169662019754859674907370307324476606919, 220736790854050750400968561922076059550], [169662019754859674907370307324476606919, 220736790854050750400968561922076059550], [319957305852170225521112812168991375559, 246880704061628641367654320647468079300, 230715114430321724850934713783197932106], [1, 2, 3, 4, 5, 6, 7, 8, 9, 10, 11, 12, 13, 14, 15, 16, 17, 18, 19, 20, 21, 22, 23, 24, 25, 26, 27, 28, 29, 30, 31], [275784346690187514303816552994600456818, 244438906729132108043330712747501799918, 42445127782472950554797800024661542043, 286741330029533493643110530981198886719, 332514351007991731146988251875597097923, 319495134707690236228278781874251052379, 142685692963625560484523432217459905823, 127158603276756608243638260060214092276, 205092795760493320362203874509052033707, 237227646578375964385177369782869262798, 38360030800745582009956586968796154758, 65540376959099362095454126872440526870], [1.0, 2.0, 3.0, 4.0, 5.0, 6.0, 7.0, 8.0, 9.0, 10.0, 11.0, 12.0, 13.0, 14.0, 15.0, 16.0, 17.0, 18.0, 19.0, 20.0, 21.0, 22.0, 23.0, 24.0, 25.0, 26.0, 27.0, 28.0, 29.0, 30.0, 31.0, 32.0, 33.0, 34.0, 35.0, 36.0, 37.0, 38.0, 41.0, 43.0, 44.0, 46.0, 55.0, 58.0, 63.0], [0, 1, 2, 3, 4, 5, 6, 7, 8, 9, 10, 11, 12, 13, 14, 15, 16, 17, 18, 19, 20, 21, 22, 23, 24, 25, 26, 27, 28, 29, 30, 32, 35, 37, 38, 40, 41, 51, 55, 58, 275], [83588513090993268840740664170047631393, 161330870025401753341235738137984802479, 50576416681569067733749004571610022006, 230715114430321724850934713783197932106]], missing_values_reference_list=['', '-', '?', nan])))\n    preprocessor_features_categorical_steps.append(('boolean2float_transformer', autoai_libs.transformers.exportable.boolean2float(activate_flag=True)))\n    preprocessor_features_categorical_steps.append(('cat_imputer', autoai_libs.transformers.exportable.CatImputer(activate_flag=True, missing_values=nan, sklearn_version_family='20', strategy='most_frequent')))\n    preprocessor_features_categorical_steps.append(('cat_encoder', autoai_libs.transformers.exportable.CatEncoder(activate_flag=True, categories='auto', dtype=numpy.float64, encoding='ordinal', handle_unknown='error', sklearn_version_family='20')))\n    preprocessor_features_categorical_steps.append(('float32_transformer', autoai_libs.transformers.exportable.float32_transform(activate_flag=True)))\n    # assembling preprocessor_features_categorical_ Pipeline\n    preprocessor_features_categorical_pipeline = sklearn.pipeline.Pipeline(steps=preprocessor_features_categorical_steps)\n    preprocessor_features_transformer_list.append(('categorical', preprocessor_features_categorical_pipeline))\n    #\n    # composing steps for preprocessor_features_numeric Pipeline\n    #\n    preprocessor_features_numeric__input_metadata = None\n    preprocessor_features_numeric_steps = []\n    preprocessor_features_numeric_steps.append(('num_column_selector', autoai_libs.transformers.exportable.NumpyColumnSelector(columns=[5, 11, 13])))\n    preprocessor_features_numeric_steps.append(('num_floatstr2float_transformer', autoai_libs.transformers.exportable.FloatStr2Float(activate_flag=True, dtypes_list=['float_int_num', 'float_int_num', 'float_int_num'], missing_values_reference_list=[nan])))\n    preprocessor_features_numeric_steps.append(('num_missing_replacer', autoai_libs.transformers.exportable.NumpyReplaceMissingValues(filling_values=nan, missing_values=[nan])))\n    preprocessor_features_numeric_steps.append(('num_imputer', autoai_libs.transformers.exportable.NumImputer(activate_flag=True, missing_values=nan, strategy='median')))\n    preprocessor_features_numeric_steps.append(('num_scaler', autoai_libs.transformers.exportable.OptStandardScaler(num_scaler_copy=None, num_scaler_with_mean=None, num_scaler_with_std=None, use_scaler_flag=False)))\n    preprocessor_features_numeric_steps.append(('float32_transformer', autoai_libs.transformers.exportable.float32_transform(activate_flag=True)))\n    # assembling preprocessor_features_numeric_ Pipeline\n    preprocessor_features_numeric_pipeline = sklearn.pipeline.Pipeline(steps=preprocessor_features_numeric_steps)\n    preprocessor_features_transformer_list.append(('numeric', preprocessor_features_numeric_pipeline))\n    # assembling preprocessor_features_ FeatureUnion\n    preprocessor_features_pipeline = sklearn.pipeline.FeatureUnion(transformer_list=preprocessor_features_transformer_list)\n    preprocessor_steps.append(('features', preprocessor_features_pipeline))\n    preprocessor_steps.append(('permuter', autoai_libs.transformers.exportable.NumpyPermuteArray(axis=0, permutation_indices=[0, 1, 2, 3, 4, 6, 7, 8, 9, 10, 12, 14, 15, 5, 11, 13])))\n    # assembling preprocessor_ Pipeline\n    preprocessor_pipeline = sklearn.pipeline.Pipeline(steps=preprocessor_steps)\n    steps.append(('preprocessor', preprocessor_pipeline))\n    steps.append(('estimator', xgboost.sklearn.XGBClassifier(base_score=0.5, booster='gbtree', colsample_bylevel=1, colsample_bynode=1, colsample_bytree=1, gamma=0.671100517258099, learning_rate=0.02030558503862224, max_delta_step=0, max_depth=8, min_child_weight=13, missing=None, n_estimators=658, n_jobs=2, nthread=None, objective='binary:logistic', random_state=33, reg_alpha=0.9995596900777052, reg_lambda=0.18785548958641501, scale_pos_weight=2.8852029379107282, seed=None, silent=True, subsample=0.6416021899604141, verbosity=0, tree_method='hist')))\n    # assembling  Pipeline\n    pipeline = sklearn.pipeline.Pipeline(steps=steps)\n    return pipeline\npipeline = compose_pipeline()\n"
        },
        {
            "cell_type": "markdown",
            "metadata": {},
            "source": "### 3. Extract needed parameter values from AutoAI run metadata"
        },
        {
            "cell_type": "code",
            "execution_count": 5,
            "metadata": {},
            "outputs": [],
            "source": "\n# Metadata used in retrieving data and computing metrics.  Customize as necessary for your environment.\n#data_source='replace_with_path_and_csv_filename'\ntarget_label_name = _input_metadata['target_label_name']\nlearning_type = _input_metadata['learning_type']\noptimization_metric = _input_metadata['optimization_metric']\nrandom_state = _input_metadata['random_state']\ncv_num_folds = _input_metadata['cv_num_folds']\nholdout_fraction = _input_metadata['holdout_fraction']\nif 'data_provenance' in _input_metadata:\n    data_provenance = _input_metadata['data_provenance']\nelse:\n    data_provenance = None\nif 'pos_label' in _input_metadata and learning_type == 'classification':\n    pos_label = _input_metadata['pos_label']\nelse:\n    pos_label = None\n"
        },
        {
            "cell_type": "markdown",
            "metadata": {},
            "source": "### 4. Create dataframe from dataset in Cloud Object Storage"
        },
        {
            "cell_type": "code",
            "execution_count": 6,
            "metadata": {},
            "outputs": [],
            "source": "# The code was removed by Watson Studio for sharing."
        },
        {
            "cell_type": "code",
            "execution_count": 7,
            "metadata": {},
            "outputs": [
                {
                    "name": "stdout",
                    "output_type": "stream",
                    "text": "successfully loaded dataframe using encoding = UTF-8\nData loaded succesfully\n"
                }
            ],
            "source": "#  Read the data as a dataframe\nimport pandas as pd\n\ncsv_encodings=['UTF-8','Latin-1'] # supplement list of encodings as necessary for your data\ndf = None\nreadable = None  # if automatic detection fails, you can supply a filename here\n\n# First, obtain a readable object\n# Cloud Object Storage data access\n# Assumes COS credentials are in a dictionary named 'credentials_0'\n   \ncredentials = df = globals().get('credentials_0')       \nif readable is None and credentials is not None :\n    try:\n        import types\n        import pandas as pd\n        import io\n    except Exception as import_exception:\n        print('Error with importing packages - check if you installed them on your environment')\n    try:\n        if credentials['SERVICE_NAME'] == 's3':\n            try:\n                from botocore.client import Config\n                import ibm_boto3\n            except Exception as import_exception:\n                print('Installing required packages!')\n                !pip install ibm-cos-sdk\n                print('accessing data via Cloud Object Storage')\n            try:\n                client = ibm_boto3.client(service_name=credentials['SERVICE_NAME'],\n                                    ibm_api_key_id=credentials['APIKEY'],\n                                    ibm_auth_endpoint=credentials['IBM_AUTH_ENDPOINT'],\n                                    config=Config(signature_version='oauth'),\n                                    endpoint_url=credentials['ENDPOINT'])\n            except Exception as cos_exception:\n                print('unable to create client for cloud object storage')\n            try:\n                readable = client.get_object(Bucket=credentials['BUCKET'],Key=credentials['FILE'])['Body']\n                # add missing __iter__ method, so pandas accepts readable as file-like object\n                if not hasattr(readable, \"__iter__\"): readable.__iter__ = types.MethodType( __iter__, readable )\n            except Exception as cos_access_exception:\n                print('unable to access data object in cloud object storage with credentials supplied')\n        elif credentials['SERVICE_NAME'] == 'fs':\n            print('accessing data via File System')\n            try:\n                if credentials['FILE'].endswith('xlsx') or credentials['FILE'].endswith('xls'):\n                    df = pd.read_excel(credentials['FILE'])\n                else:\n                    df = pd.read_csv(credentials['FILE'], sep = _input_metadata['separator'])\n            except Exception as FS_access_exception:\n                print('unable to access data object in File System with path supplied') \n    except Exception as data_access_exception:\n        print('unable to access data object with credentials supplied') \n\n# IBM Cloud Pak for Data data access\nproject_filename = globals().get('project_filename')       \nif readable is None and 'credentials_0' in globals() and 'ASSET_ID' in credentials_0:\n    project_filename = credentials_0['ASSET_ID']\nif project_filename != None and project_filename != '1':\n    print('attempting project_lib access to ' + str(project_filename))\n    try:\n        from project_lib import Project\n        project = Project.access()\n        storage_credentials = project.get_storage_metadata()\n        readable = project.get_file(project_filename)\n    except Exception as project_exception:\n        print('unable to access data using the project_lib interface and filename supplied')\n\n# Use data_provenance as filename if other access mechanisms are unsuccessful\nif readable is None and type(data_provenance) is str:\n    print('attempting to access local file using path and name ' + data_provenance)\n    readable = data_provenance\n\n# Second, use pd.read_csv to read object, iterating over list of csv_encodings until successful\nif readable is not None:\n    for encoding in csv_encodings:\n        try:\n            if credentials['FILE'].endswith('xlsx') or credentials['FILE'].endswith('xls'):\n                buffer = io.BytesIO(readable.read())\n                buffer.seek(0)\n                df = pd.read_excel(buffer, encoding=encoding,sheet_name=_input_metadata['excel_sheet'])\n            else:\n                df = pd.read_csv(readable, encoding = encoding, sep = _input_metadata['separator'])\n            print('successfully loaded dataframe using encoding = ' + str(encoding))\n            break\n        except Exception as exception_dataread:\n            print('unable to read csv using encoding ' + str(encoding))\n            print('handled error was ' + str(exception_dataread))\n    if df is None:\n        print('unable to read file/object as a dataframe using supplied csv_encodings ' + str(csv_encodings))\n        print(f'Please use \\'insert to code\\' on data panel to load dataframe.')\n        raise(ValueError('unable to read file/object as a dataframe using supplied csv_encodings ' + str(csv_encodings)))\n\nif isinstance(df,pd.DataFrame):\n    print('Data loaded succesfully')\n    if _input_metadata.get('subsampling') is not None:\n        df = df.sample(frac=_input_metadata['subsampling'], random_state=_input_metadata['random_state']) if _input_metadata['subsampling'] <= 1.0 else df.sample(n=_input_metadata['subsampling'], random_state=_input_metadata['random_state'])\nelse:\n    print('Data cannot be loaded with credentials supplied, please provide DataFrame with training data.')"
        },
        {
            "cell_type": "markdown",
            "metadata": {},
            "source": "### 5. Preprocess Data"
        },
        {
            "cell_type": "code",
            "execution_count": 8,
            "metadata": {},
            "outputs": [],
            "source": "# Drop rows whose target is not defined\ntarget = target_label_name # your target name here\nif learning_type == 'regression':\n    df[target] = pd.to_numeric(df[target], errors='coerce')\ndf.dropna('rows', how='any', subset=[target], inplace=True)\n"
        },
        {
            "cell_type": "code",
            "execution_count": 9,
            "metadata": {},
            "outputs": [],
            "source": "# extract X and y\ndf_X = df.drop(columns=[target])\ndf_y = df[target]\n"
        },
        {
            "cell_type": "code",
            "execution_count": 10,
            "metadata": {},
            "outputs": [],
            "source": "# Detach preprocessing pipeline (which needs to see all training data)\npreprocessor_index = -1\npreprocessing_steps = [] \nfor i, step in enumerate(pipeline.steps):\n    preprocessing_steps.append(step)\n    if step[0]=='preprocessor':\n        preprocessor_index = i\n        break\n#if len(pipeline.steps) > preprocessor_index+1 and pipeline.steps[preprocessor_index + 1][0] == 'cognito':\n    #preprocessor_index += 1\n    #preprocessing_steps.append(pipeline.steps[preprocessor_index])\nif preprocessor_index >= 0:\n    preprocessing_pipeline = Pipeline(memory=pipeline.memory, steps=preprocessing_steps)\n    pipeline = Pipeline(steps=pipeline.steps[preprocessor_index+1:])"
        },
        {
            "cell_type": "code",
            "execution_count": 11,
            "metadata": {},
            "outputs": [],
            "source": "# Preprocess X\n# preprocessor should see all data for cross_validate on the remaining steps to match autoai scores\nknown_values_list.clear()  #  known_values_list is filled in by the preprocessing_pipeline if needed\npreprocessing_pipeline.fit(df_X.values, df_y.values)\nX_prep = preprocessing_pipeline.transform(df_X.values)"
        },
        {
            "cell_type": "markdown",
            "metadata": {},
            "source": "### 6. Split data into Training and Holdout sets"
        },
        {
            "cell_type": "code",
            "execution_count": 12,
            "metadata": {},
            "outputs": [
                {
                    "name": "stdout",
                    "output_type": "stream",
                    "text": "learning_type specified as: classification\n"
                }
            ],
            "source": "# determine learning_type and perform holdout split (stratify conditionally)\nif learning_type is None:\n    # When the problem type is not available in the metadata, use the sklearn type_of_target to determine whether to stratify the holdout split\n    # Caution:  This can mis-classify regression targets that can be expressed as integers as multiclass, in which case manually override the learning_type\n    from sklearn.utils.multiclass import type_of_target\n    if type_of_target(df_y.values) in ['multiclass', 'binary']:\n        learning_type = 'classification'\n    else:\n        learning_type = 'regression'\n    print('learning_type determined by type_of_target as:',learning_type)\nelse:\n    print('learning_type specified as:',learning_type)\n    \nfrom sklearn.model_selection import train_test_split\nif learning_type == 'classification':\n    X, X_holdout, y, y_holdout = train_test_split(X_prep, df_y.values, test_size=holdout_fraction, random_state=random_state, stratify=df_y.values)\nelse:\n    X, X_holdout, y, y_holdout = train_test_split(X_prep, df_y.values, test_size=holdout_fraction, random_state=random_state)\n"
        },
        {
            "cell_type": "markdown",
            "metadata": {},
            "source": "#### 7. Generate features via Feature Engineering pipeline"
        },
        {
            "cell_type": "code",
            "execution_count": 13,
            "metadata": {},
            "outputs": [],
            "source": "#Detach Feature Engineering pipeline if next, fit it, and transform the training data\nfe_pipeline = None\nif pipeline.steps[0][0] == 'cognito':\n    try:\n        fe_pipeline = Pipeline(steps=[pipeline.steps[0]])\n        X = fe_pipeline.fit_transform(X, y)\n        X_holdout = fe_pipeline.transform(X_holdout)\n        pipeline.steps = pipeline.steps[1:]\n    except IndexError:\n        try:\n            print('Trying to compose pipeline with some of cognito steps')\n            fe_pipeline = Pipeline(steps = list([pipeline.steps[0][1].steps[0],pipeline.steps[0][1].steps[1]]))\n            X = fe_pipeline.fit_transform(X, y)\n            X_holdout = fe_pipeline.transform(X_holdout)\n            pipeline.steps = pipeline.steps[1:]\n        except IndexError:\n            print('Composing pipeline without cognito steps!')\n            pipeline.steps = pipeline.steps[1:]\n"
        },
        {
            "cell_type": "markdown",
            "metadata": {},
            "source": " ### 8. Additional setup: Define a function that returns a scorer for the target's positive label"
        },
        {
            "cell_type": "code",
            "execution_count": 14,
            "metadata": {
                "pycharm": {
                    "name": "#%%\n"
                }
            },
            "outputs": [],
            "source": "# create a function to produce a scorer for a given positive label\ndef make_pos_label_scorer(scorer, pos_label):\n    kwargs = {'pos_label':pos_label}\n    for prop in ['needs_proba', 'needs_threshold']:\n        if prop+'=True' in scorer._factory_args():\n            kwargs[prop] = True\n    if scorer._sign == -1:\n        kwargs['greater_is_better'] = False\n    from sklearn.metrics import make_scorer\n    scorer=make_scorer(scorer._score_func, **kwargs)\n    return scorer"
        },
        {
            "cell_type": "markdown",
            "metadata": {},
            "source": "### 9. Fit pipeline, predict on Holdout set, calculate score, perform cross-validation"
        },
        {
            "cell_type": "code",
            "execution_count": 15,
            "metadata": {
                "pycharm": {
                    "is_executing": false
                }
            },
            "outputs": [
                {
                    "name": "stdout",
                    "output_type": "stream",
                    "text": "[09:40:43] Tree method is selected to be 'hist', which uses a single updater grow_fast_histmaker.\n"
                },
                {
                    "data": {
                        "text/plain": "Pipeline(memory=None,\n     steps=[('estimator', XGBClassifier(base_score=0.5, booster='gbtree', colsample_bylevel=1,\n       colsample_bynode=1, colsample_bytree=1, gamma=0.671100517258099,\n       learning_rate=0.02030558503862224, max_delta_step=0, max_depth=8,\n       min_child_weight=13, missing=None, n_estimators=658, n_job...282, seed=None, silent=True,\n       subsample=0.6416021899604141, tree_method='hist', verbosity=0))])"
                    },
                    "execution_count": 15,
                    "metadata": {},
                    "output_type": "execute_result"
                }
            ],
            "source": "# fit the remainder of the pipeline on the training data\npipeline.fit(X,y)"
        },
        {
            "cell_type": "code",
            "execution_count": 16,
            "metadata": {},
            "outputs": [],
            "source": "# predict on the holdout data\ny_pred = pipeline.predict(X_holdout)"
        },
        {
            "cell_type": "code",
            "execution_count": 17,
            "metadata": {},
            "outputs": [
                {
                    "name": "stdout",
                    "output_type": "stream",
                    "text": "0.6777920410783055\n"
                }
            ],
            "source": "# compute score for the optimization metric\n# scorer may need pos_label, but not all scorers take pos_label parameter\nfrom sklearn.metrics import get_scorer\nscorer = get_scorer(optimization_metric)\nscore = None\n#score = scorer(pipeline, X_holdout, y_holdout)  # this would suffice for simple cases\npos_label = None  # if you want to supply the pos_label, specify it here\nif pos_label is None and 'pos_label' in _input_metadata:\n    pos_label=_input_metadata['pos_label']\ntry:\n    score = scorer(pipeline, X_holdout, y_holdout)\nexcept Exception as e1:\n    if learning_type is \"classification\" and (pos_label is None or str(pos_label)==''):\n        print('You may have to provide a value for pos_label in order for a score to be calculated.')\n        raise(e1)\n    else:\n        exception_string=str(e1)\n        if 'pos_label' in exception_string:\n            try:\n                scorer = make_pos_label_scorer(scorer, pos_label=pos_label)\n                score = scorer(pipeline, X_holdout, y_holdout)\n                print('Retry was successful with pos_label supplied to scorer')\n            except Exception as e2:\n                print('Initial attempt to use scorer failed.  Exception was:')\n                print(e1)\n                print('')\n                print('Retry with pos_label failed.  Exception was:')\n                print(e2)\n        else:\n            raise(e1)\n\nif score is not None:\n    print(score)"
        },
        {
            "cell_type": "code",
            "execution_count": 18,
            "metadata": {},
            "outputs": [
                {
                    "name": "stdout",
                    "output_type": "stream",
                    "text": "[09:40:48] Tree method is selected to be 'hist', which uses a single updater grow_fast_histmaker.\n[09:40:53] Tree method is selected to be 'hist', which uses a single updater grow_fast_histmaker.\n[09:40:57] Tree method is selected to be 'hist', which uses a single updater grow_fast_histmaker.\n"
                },
                {
                    "data": {
                        "text/plain": "0.6419591005902086"
                    },
                    "execution_count": 18,
                    "metadata": {},
                    "output_type": "execute_result"
                }
            ],
            "source": "# cross_validate pipeline using training data\nfrom sklearn.model_selection import cross_validate\nfrom sklearn.model_selection import StratifiedKFold, KFold\nif learning_type == 'classification':\n    fold_generator = StratifiedKFold(n_splits=cv_num_folds, random_state=random_state)\nelse:\n    fold_generator = KFold(n_splits=cv_num_folds, random_state=random_state)\ncv_results = cross_validate(pipeline, X, y, cv=fold_generator, scoring={optimization_metric:scorer}, return_train_score=True)\nimport numpy as np\nnp.mean(cv_results['test_' + optimization_metric])"
        },
        {
            "cell_type": "code",
            "execution_count": 19,
            "metadata": {},
            "outputs": [
                {
                    "data": {
                        "text/plain": "{'fit_time': array([3.73766446, 2.99079132, 2.98098707]),\n 'score_time': array([0.39129353, 0.42210841, 0.39973974]),\n 'test_f1': array([0.64329393, 0.6349481 , 0.64763528]),\n 'train_f1': array([0.78813205, 0.78824764, 0.78625   ])}"
                    },
                    "execution_count": 19,
                    "metadata": {},
                    "output_type": "execute_result"
                }
            ],
            "source": "cv_results"
        }
    ],
    "metadata": {
        "kernelspec": {
            "display_name": "Python 3.6",
            "language": "python",
            "name": "python3"
        },
        "language_info": {
            "codemirror_mode": {
                "name": "ipython",
                "version": 3
            },
            "file_extension": ".py",
            "mimetype": "text/x-python",
            "name": "python",
            "nbconvert_exporter": "python",
            "pygments_lexer": "ipython3",
            "version": "3.6.9"
        }
    },
    "nbformat": 4,
    "nbformat_minor": 1
}